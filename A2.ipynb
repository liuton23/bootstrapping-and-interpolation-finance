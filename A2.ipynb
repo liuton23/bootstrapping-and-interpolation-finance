{
 "cells": [
  {
   "cell_type": "code",
   "execution_count": 1,
   "metadata": {},
   "outputs": [
    {
     "data": {
      "text/plain": [
       "0.47619047619047605"
      ]
     },
     "execution_count": 1,
     "metadata": {},
     "output_type": "execute_result"
    }
   ],
   "source": [
    "import numpy as np\n",
    "import pandas as pd\n",
    "from numpy import linalg as la\n",
    "pu = (1-1/1.1)/(1.1 - 1/1.1) #risk-netural probability: pu and pd\n",
    "pd = 1 - pu\n",
    "pu"
   ]
  },
  {
   "cell_type": "code",
   "execution_count": 45,
   "metadata": {
    "scrolled": true
   },
   "outputs": [],
   "source": [
    "price_tree = np.zeros((53,53)) # the price change of 1 unit of gasoline in the next 52 weeks.\n",
    "for i in range(53):\n",
    "    for j in range(i+1):\n",
    "        price_tree[i,j] = float((1.1**(2*j - i))) \n",
    "final_nodes = price_tree[52]\n",
    "one_up = np.zeros((53,53))\n",
    "one_up[52] =  np.array([max(i - 1, 0) for i in final_nodes])\n",
    "for i in reversed(range(52)):\n",
    "    for j in range(i+1):\n",
    "        one_up[i,j] = pd*one_up[i+1, j] + pu*one_up[i+1, j+1]\n",
    "\n",
    "\n",
    "coordinates = []\n",
    "for i in range(27,53):\n",
    "    coordinates.append([52,i])\n",
    "\n",
    "two_up = np.zeros((53,53))\n",
    "two_up[52] = one_up[52]\n",
    "\n",
    "for i in reversed(range(52)):\n",
    "    for j in range(i+1):\n",
    "        two_up[i,j] = max(pd*two_up[i+1, j] + pu*two_up[i+1, j+1], \n",
    "                          value_tree[i,j] - 1 + one_up[i,j])\n",
    "        if i==51 and pd*two_up[i+1, j] + pu*two_up[i+1, j+1] <= value_tree[i,j] - 1 + one_up[i,j]:\n",
    "            coordinates.append([51,j])\n",
    "        \n",
    "        \n",
    "three_up = np.zeros((53,53))\n",
    "three_up[51:] = two_up[51:]\n",
    "\n",
    "\n",
    "for i in reversed(range(51)):\n",
    "    for j in range(i+1):\n",
    "        three_up[i,j] = max(pd*three_up[i+1, j] + pu*three_up[i+1, j+1], value_tree[i,j] - 1 + two_up[i,j])\n",
    "        if i==50 and pd*two_up[i+1, j] + pu*two_up[i+1, j+1] <= value_tree[i,j] - 1 + two_up[i,j]:\n",
    "            coordinates.append([50,j])\n",
    "\n",
    "        \n",
    "    \n",
    "four_up = np.zeros((53,53))\n",
    "four_up[50:] = three_up[50:]\n",
    "\n",
    "        \n",
    "for i in reversed(range(50)):\n",
    "    for j in range(i+1):\n",
    "        four_up[i,j] = max(pd*four_up[i+1, j] + pu*four_up[i+1, j+1], value_tree[i,j] - 1 + three_up[i,j])\n",
    "        if pd*four_up[i+1, j] + pu*four_up[i+1, j+1] <= value_tree[i,j] - 1 + three_up[i,j]:\n",
    "            coordinates.append([i,j])\n",
    "four_up_p = four_up[0,0]"
   ]
  },
  {
   "cell_type": "code",
   "execution_count": 46,
   "metadata": {},
   "outputs": [
    {
     "data": {
      "text/plain": [
       "53.01463475161445"
      ]
     },
     "execution_count": 46,
     "metadata": {},
     "output_type": "execute_result"
    }
   ],
   "source": [
    "four_up_p*50# price of the protaction plan"
   ]
  },
  {
   "cell_type": "code",
   "execution_count": 52,
   "metadata": {
    "scrolled": true
   },
   "outputs": [
    {
     "data": {
      "text/plain": [
       "'1.0, 1.21, 1.464, 1.772, 2.144, 2.594, 3.138, 3.797, 4.595, 5.56, 6.727, 8.14, 9.85, 11.918, 14.421, 17.449, 21.114, 25.548, 30.913, 37.404, 45.259, 54.764, 66.264, 80.18, 97.017, 117.391, '"
      ]
     },
     "execution_count": 52,
     "metadata": {},
     "output_type": "execute_result"
    }
   ],
   "source": [
    "optimal_call = []\n",
    "for i in coordinates:\n",
    "    if i[0] >= 49:\n",
    "        k = [i[0]]\n",
    "        k.append(round(price_tree[i[0],i[1]],3))\n",
    "        optimal_call.append(k)\n",
    "optimal_call #102"
   ]
  },
  {
   "cell_type": "code",
   "execution_count": 58,
   "metadata": {
    "scrolled": true
   },
   "outputs": [],
   "source": [
    "one_down = np.zeros((53,53))\n",
    "one_down[52] = np.array([max(1 - i, 0) for i in final_nodes])\n",
    "\n",
    "for i in reversed(range(52)):\n",
    "    for j in range(i+1):\n",
    "        one_down[i,j] = pd*one_down[i+1, j] + pu*one_down[i+1, j+1]\n",
    "\n",
    "node_tree = np.zeros((53,53))\n",
    "coord = []\n",
    "for i in range(26):\n",
    "    coord.append([52,i])\n",
    "    node_tree[52,i] = 1\n",
    "\n",
    "two_down = np.zeros((53,53))\n",
    "two_down[52] = one_down[52]\n",
    "\n",
    "for i in reversed(range(52)):\n",
    "    for j in range(i+1):\n",
    "        two_down[i,j] = max(pd*two_down[i+1, j] \n",
    "                            + pu*two_down[i+1, j+1]\n",
    "                            , 1-value_tree[i,j] + one_down[i,j])\n",
    "        if i == 51 and pd*two_down[i+1, j] + pu*two_down[i+1, j+1] <= 1- value_tree[i,j] + one_down[i,j]:\n",
    "            coord.append([i,j])\n",
    "            node_tree[i,j] = 1\n",
    "        \n",
    "        \n",
    "three_down = np.zeros((53,53))\n",
    "three_down[51:] = two_down[51:]\n",
    "\n",
    "\n",
    "for i in reversed(range(51)):\n",
    "    for j in range(i+1):\n",
    "        three_down[i,j] = max(pd*three_down[i+1, j] + pu*three_down[i+1, j+1],1 - value_tree[i,j] + two_down[i,j])\n",
    "        if i == 50 and pd*two_down[i+1, j] + pu*two_down[i+1, j+1] <= 1-  value_tree[i,j]  + two_down[i,j]:\n",
    "            coord.append([i,j])\n",
    "            node_tree[i,j] = 1\n",
    "\n",
    "        \n",
    "    \n",
    "four_down = np.zeros((53,53))\n",
    "four_down[50:] = three_down[50:]\n",
    "\n",
    "        \n",
    "for i in reversed(range(50)):\n",
    "    for j in range(i+1):\n",
    "        four_down[i,j] = max(pd*four_down[i+1, j] + pu*four_down[i+1, j+1], 1 - value_tree[i,j] + three_down[i,j])\n",
    "        if pd*four_down[i+1, j] + pu*four_down[i+1, j+1] <=  1 - value_tree[i,j]  + three_down[i,j]:\n",
    "            coord.append([i,j])\n",
    "            node_tree[i,j] = 1\n",
    "four_down_p = four_down[0,0]"
   ]
  },
  {
   "cell_type": "code",
   "execution_count": 59,
   "metadata": {},
   "outputs": [
    {
     "data": {
      "text/plain": [
       "53014.6347516147"
      ]
     },
     "execution_count": 59,
     "metadata": {},
     "output_type": "execute_result"
    }
   ],
   "source": [
    "four_down_p*50000"
   ]
  },
  {
   "cell_type": "code",
   "execution_count": 70,
   "metadata": {},
   "outputs": [
    {
     "data": {
      "text/plain": [
       "array([0., 1., 1., 1., 1., 1., 1., 1., 1., 0., 1., 1., 1., 1., 1., 1., 0.,\n",
       "       1., 1., 1., 0., 0., 0., 0., 0., 0., 0., 0., 0., 0., 0., 0., 0., 0.,\n",
       "       0., 0., 0., 0., 0., 0., 0., 0., 0., 0., 0., 0., 0., 0., 0., 0., 0.,\n",
       "       0., 0.])"
      ]
     },
     "execution_count": 70,
     "metadata": {},
     "output_type": "execute_result"
    }
   ],
   "source": [
    "optimal_put = []\n",
    "for i in coord:\n",
    "    if i[0] >= 49:\n",
    "        k = [i[0]]\n",
    "        k.append(round(price_tree[i[0],i[1]],3))\n",
    "        optimal_put.append(k)\n",
    "optimal_put #103"
   ]
  }
 ],
 "metadata": {
  "kernelspec": {
   "display_name": "Python 3",
   "language": "python",
   "name": "python3"
  },
  "language_info": {
   "codemirror_mode": {
    "name": "ipython",
    "version": 3
   },
   "file_extension": ".py",
   "mimetype": "text/x-python",
   "name": "python",
   "nbconvert_exporter": "python",
   "pygments_lexer": "ipython3",
   "version": "3.8.5"
  }
 },
 "nbformat": 4,
 "nbformat_minor": 4
}
